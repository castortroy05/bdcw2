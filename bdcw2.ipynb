{
 "cells": [
  {
   "cell_type": "markdown",
   "id": "e3683b15",
   "metadata": {},
   "source": [
    "# Load Packages\n"
   ]
  },
  {
   "cell_type": "code",
   "execution_count": 10,
   "id": "cef07be2",
   "metadata": {},
   "outputs": [
    {
     "name": "stdout",
     "output_type": "stream",
     "text": [
      "True\n"
     ]
    },
    {
     "data": {
      "text/plain": [
       "[_DeviceAttributes(/job:localhost/replica:0/task:0/device:CPU:0, CPU, 268435456, -1950203687394830274)]"
      ]
     },
     "execution_count": 10,
     "metadata": {},
     "output_type": "execute_result"
    }
   ],
   "source": [
    "import pandas as pd\n",
    "import numpy as np\n",
    "import matplotlib.pyplot as plt\n",
    "import tensorflow as tf\n",
    "import seaborn as sns\n",
    "from sklearn import metrics\n",
    "from tensorflow.keras.preprocessing.image import ImageDataGenerator\n",
    "from tensorflow.keras.optimizers import Adam\n",
    "from tensorflow.keras.utils import to_categorical, normalize\n",
    "from sklearn.model_selection import train_test_split\n",
    "from sklearn.metrics import confusion_matrix  \n",
    "from tensorflow.python.client import device_lib\n",
    "# print(device_lib.list_local_devices())\n",
    "tf.config.list_physical_devices('GPU') \n",
    "print(tf.test.is_built_with_cuda())\n",
    "with tf.compat.v1.Session() as sess:\n",
    "  devices = sess.list_devices()\n",
    "devices"
   ]
  },
  {
   "cell_type": "markdown",
   "id": "3b56153a",
   "metadata": {},
   "source": [
    "# Import the dataset"
   ]
  },
  {
   "cell_type": "code",
   "execution_count": null,
   "id": "fdd9a51d",
   "metadata": {},
   "outputs": [],
   "source": [
    "df = pd.read_csv (\"glass.csv\")\n",
    "df2 = df.set_index('Type')\n",
    "df2.head()\n",
    "print (df2.head(10))"
   ]
  },
  {
   "cell_type": "markdown",
   "id": "8116e4a1",
   "metadata": {},
   "source": [
    "# Checking Data Types"
   ]
  },
  {
   "cell_type": "code",
   "execution_count": null,
   "id": "c542abf4",
   "metadata": {},
   "outputs": [],
   "source": [
    "print (df.dtypes)"
   ]
  },
  {
   "cell_type": "markdown",
   "id": "8e8f12f4",
   "metadata": {},
   "source": [
    "# checking rows for duplicate data"
   ]
  },
  {
   "cell_type": "code",
   "execution_count": null,
   "id": "f995e94d",
   "metadata": {},
   "outputs": [],
   "source": [
    "duplicate_rows_df = df[df.duplicated()]\n",
    "print(\"number of duplicated rows: \", duplicate_rows_df.shape)"
   ]
  },
  {
   "cell_type": "markdown",
   "id": "27d4adf0",
   "metadata": {},
   "source": [
    "# count the number of null values in each column"
   ]
  },
  {
   "cell_type": "code",
   "execution_count": null,
   "id": "2ddb1d04",
   "metadata": {},
   "outputs": [],
   "source": [
    "print(df2.isnull().sum())"
   ]
  },
  {
   "cell_type": "markdown",
   "id": "2746a857",
   "metadata": {},
   "source": []
  },
  {
   "cell_type": "markdown",
   "id": "7f05dba4",
   "metadata": {},
   "source": [
    "# print summary statictics"
   ]
  },
  {
   "cell_type": "code",
   "execution_count": null,
   "id": "0aa2f6cb",
   "metadata": {},
   "outputs": [],
   "source": [
    "print(df2.describe())"
   ]
  },
  {
   "cell_type": "markdown",
   "id": "f91ce8dc",
   "metadata": {},
   "source": [
    "# Create a pairplot of the data"
   ]
  },
  {
   "cell_type": "code",
   "execution_count": null,
   "id": "826f6e58",
   "metadata": {},
   "outputs": [],
   "source": [
    "p=sns.pairplot(df, hue='Type')"
   ]
  },
  {
   "cell_type": "markdown",
   "id": "a0b3e27f",
   "metadata": {},
   "source": [
    "# Extract Labels to a different data frame."
   ]
  },
  {
   "cell_type": "code",
   "execution_count": null,
   "id": "48d7a8da",
   "metadata": {},
   "outputs": [],
   "source": [
    "x = df.drop('Type', axis = 1)\n",
    "y = df['Type']"
   ]
  },
  {
   "cell_type": "markdown",
   "id": "0297c41d",
   "metadata": {},
   "source": [
    "# Plot the training set"
   ]
  },
  {
   "cell_type": "code",
   "execution_count": null,
   "id": "5b24f9e1",
   "metadata": {},
   "outputs": [],
   "source": [
    "glass= y.unique()\n",
    "values = y.value_counts()\n",
    "\n",
    "plt.bar(glass, values)\n",
    "plt.title(\"Glass Types\")\n",
    "plt.xlabel(\"Glass Types\")\n",
    "plt.ylabel(\"Frequency\")\n",
    "plt.show()"
   ]
  },
  {
   "cell_type": "markdown",
   "id": "0bfb5243",
   "metadata": {},
   "source": [
    "# explore data values"
   ]
  },
  {
   "cell_type": "code",
   "execution_count": null,
   "id": "b424fdc0",
   "metadata": {},
   "outputs": [],
   "source": [
    "x.describe()"
   ]
  },
  {
   "cell_type": "markdown",
   "id": "9b9d954f",
   "metadata": {},
   "source": [
    "# convert data to use with keras for normalisation"
   ]
  },
  {
   "cell_type": "code",
   "execution_count": null,
   "id": "e19036dd",
   "metadata": {},
   "outputs": [],
   "source": [
    "x = df.values\n",
    "x = normalize(x)\n",
    "print (x[0])"
   ]
  },
  {
   "cell_type": "markdown",
   "id": "56b012a0",
   "metadata": {},
   "source": [
    "# convert label "
   ]
  },
  {
   "cell_type": "code",
   "execution_count": null,
   "id": "129a4a1e",
   "metadata": {},
   "outputs": [],
   "source": [
    "y = to_categorical(y)\n",
    "y.shape"
   ]
  },
  {
   "cell_type": "markdown",
   "id": "b0d7eecc",
   "metadata": {},
   "source": [
    "# Split the data for training"
   ]
  },
  {
   "cell_type": "code",
   "execution_count": null,
   "id": "c58bc34a",
   "metadata": {},
   "outputs": [],
   "source": [
    "x, x_val, y, y_val = train_test_split(x, y, test_size=0.2)\n",
    "x_val, x_test, y_val, y_test = train_test_split(x_val, y_val, test_size=0.5)"
   ]
  },
  {
   "cell_type": "markdown",
   "id": "b5dc65da",
   "metadata": {},
   "source": [
    "# visualise the data in a heatmap"
   ]
  },
  {
   "cell_type": "code",
   "execution_count": null,
   "id": "cb2bd4dd",
   "metadata": {},
   "outputs": [],
   "source": [
    "corr =df2.corr()\n",
    "\n",
    "fig, ax =plt.subplots(figsize=(10,8))\n",
    "#Generate Heat Map, allow annotations and place floats in map\n",
    "sns.heatmap(corr, cmap='coolwarm', annot=True, fmt=\".2f\")\n",
    "#Apply xticks\n",
    "plt.xticks(range(len(corr.columns)), corr.columns);\n",
    "#Apply yticks\n",
    "plt.yticks(range(len(corr.columns)), corr.columns)\n",
    "#show plot\n",
    "plt.show()"
   ]
  },
  {
   "cell_type": "markdown",
   "id": "5eda36f8",
   "metadata": {},
   "source": [
    "# Create the model"
   ]
  },
  {
   "cell_type": "code",
   "execution_count": null,
   "id": "9876671a",
   "metadata": {},
   "outputs": [],
   "source": [
    "model = tf.keras.models.Sequential([\n",
    "\n",
    "    tf.keras.layers.Dense(256, input_shape=(10,), activation='relu'),\n",
    "    tf.keras.layers.BatchNormalization(),\n",
    "    tf.keras.layers.Dropout(0.3),\n",
    "    \n",
    "    tf.keras.layers.Dense(256, activation='relu'),\n",
    "    tf.keras.layers.BatchNormalization(),\n",
    "    tf.keras.layers.Dropout(0.3),\n",
    "    \n",
    "    tf.keras.layers.Dense(512, activation='relu'),\n",
    "    tf.keras.layers.BatchNormalization(),\n",
    "    tf.keras.layers.Dropout(0.5),\n",
    "            \n",
    "    tf.keras.layers.Dense(8, activation='softmax')\n",
    "])\n",
    "\n",
    "\n",
    "model.compile(loss='categorical_crossentropy',\n",
    "              optimizer=Adam(0.0001),\n",
    "              metrics=['acc'])\n",
    "\n",
    "model\n",
    "    "
   ]
  },
  {
   "cell_type": "markdown",
   "id": "ed2f409a",
   "metadata": {},
   "source": [
    "# view the model"
   ]
  },
  {
   "cell_type": "code",
   "execution_count": null,
   "id": "f49ba49a",
   "metadata": {},
   "outputs": [],
   "source": [
    "model.summary()"
   ]
  },
  {
   "cell_type": "markdown",
   "id": "92a0ee69",
   "metadata": {},
   "source": [
    "# train the model"
   ]
  },
  {
   "cell_type": "code",
   "execution_count": null,
   "id": "99e1d032",
   "metadata": {},
   "outputs": [],
   "source": [
    "\n",
    "\n",
    "history = model.fit(x, y,\n",
    "                    epochs=100000,\n",
    "                    validation_data=(x_val, y_val),\n",
    "                    verbose=2,\n",
    "                   )\n",
    "\n"
   ]
  },
  {
   "cell_type": "markdown",
   "id": "40c1ae7a",
   "metadata": {},
   "source": [
    "# Evaluate the model"
   ]
  },
  {
   "cell_type": "markdown",
   "id": "9191d230",
   "metadata": {},
   "source": [
    "# Display Model Accuracy"
   ]
  },
  {
   "cell_type": "code",
   "execution_count": null,
   "id": "7d271de6",
   "metadata": {},
   "outputs": [],
   "source": [
    "plt.plot(history.history['acc'])\n",
    "plt.plot(history.history['val_acc'])\n",
    "plt.title('model accuracy')\n",
    "plt.ylabel('accuracy')\n",
    "plt.xlabel('epoch')\n",
    "plt.legend(['train', 'test'], loc='upper left')\n",
    "plt.show()"
   ]
  },
  {
   "cell_type": "markdown",
   "id": "7dd2aa78",
   "metadata": {},
   "source": [
    "# Display Model Accuracy"
   ]
  },
  {
   "cell_type": "code",
   "execution_count": null,
   "id": "59fcd664",
   "metadata": {},
   "outputs": [],
   "source": [
    "\n",
    "\n",
    "print (\"Accuracy:\", history.history['acc'][-1])\n",
    "print (\"Validation Accuracy:\", history.history['val_acc'][-1])\n"
   ]
  },
  {
   "cell_type": "markdown",
   "id": "59abd244",
   "metadata": {},
   "source": [
    "# Display model loss"
   ]
  },
  {
   "cell_type": "code",
   "execution_count": null,
   "id": "bd790d8f",
   "metadata": {},
   "outputs": [],
   "source": [
    "plt.plot(history.history['loss'])\n",
    "plt.plot(history.history['val_loss'])\n",
    "plt.title('model loss')\n",
    "plt.ylabel('loss')\n",
    "plt.xlabel('epoch')\n",
    "plt.legend(['train', 'test'], loc='upper left')\n",
    "plt.show()"
   ]
  },
  {
   "cell_type": "markdown",
   "id": "169e3c68",
   "metadata": {},
   "source": [
    "# Evaluate on the test data"
   ]
  },
  {
   "cell_type": "code",
   "execution_count": null,
   "id": "f3c78d73",
   "metadata": {},
   "outputs": [],
   "source": [
    "model.evaluate(x_test, y_test)"
   ]
  },
  {
   "cell_type": "markdown",
   "id": "1da5ffc4",
   "metadata": {},
   "source": [
    "# Display the best model accuracy"
   ]
  },
  {
   "cell_type": "code",
   "execution_count": null,
   "id": "bec04223",
   "metadata": {},
   "outputs": [],
   "source": [
    "best_model_accuracy = history.history['acc'][np.argmin(history.history['loss'])]\n",
    "print (\"Best Model Accuracy:\", best_model_accuracy)"
   ]
  },
  {
   "cell_type": "markdown",
   "id": "f9f8b8fe",
   "metadata": {},
   "source": []
  }
 ],
 "metadata": {
  "interpreter": {
   "hash": "95606bc53929b54f756dff225d66a5ebf14d3425b29085c482108fea047c442b"
  },
  "kernelspec": {
   "display_name": "Python 3 (ipykernel)",
   "language": "python",
   "name": "python3"
  },
  "language_info": {
   "codemirror_mode": {
    "name": "ipython",
    "version": 3
   },
   "file_extension": ".py",
   "mimetype": "text/x-python",
   "name": "python",
   "nbconvert_exporter": "python",
   "pygments_lexer": "ipython3",
   "version": "3.9.7"
  }
 },
 "nbformat": 4,
 "nbformat_minor": 5
}
